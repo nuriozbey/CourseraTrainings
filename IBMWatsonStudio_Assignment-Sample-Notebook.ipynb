{
 "cells": [
  {
   "cell_type": "markdown",
   "metadata": {},
   "source": [
    "# My Jupyter Notebook on IBM Watson Studio"
   ]
  },
  {
   "cell_type": "markdown",
   "metadata": {},
   "source": [
    "**Nuri OZBEY** \n",
    "\n",
    "Software Engineer"
   ]
  },
  {
   "cell_type": "markdown",
   "metadata": {},
   "source": [
    "- 👀 _I’m interested in data science._\n",
    "- 🌱 _I’m currently learning UI design and AI/ML tools._\n",
    "- 💞️ _I’m looking to collaborate on HTML/CSS/JS and Jupyter Notebook projects.\n",
    "- 📫 _You can reach me at [nuriozbey.com](https://nuriozbey.com/#contact)!_"
   ]
  },
  {
   "cell_type": "markdown",
   "metadata": {},
   "source": [
    "### The following code calculates the distance between two points in X,Y plane"
   ]
  },
  {
   "cell_type": "code",
   "execution_count": 6,
   "metadata": {},
   "outputs": [
    {
     "name": "stdout",
     "output_type": "stream",
     "text": [
      "Point(3,4) Point(-3,-4)\n",
      "distance: 10.0\n"
     ]
    }
   ],
   "source": [
    "import math\n",
    "\n",
    "class Point(object):\n",
    "    '''Creates a point on a coordinate plane with values x and y.'''\n",
    "\n",
    "    def __init__(self, x, y):\n",
    "        '''Defines x and y variables'''\n",
    "        self.X = x\n",
    "        self.Y = y\n",
    "\n",
    "    def move(self, dx, dy):\n",
    "        '''Determines where x and y move'''\n",
    "        self.X = self.X + dx\n",
    "        self.Y = self.Y + dy\n",
    "\n",
    "    def __str__(self):\n",
    "        return \"Point(%s,%s)\"%(self.X, self.Y) \n",
    "\n",
    "\n",
    "    def getX(self):\n",
    "        return self.X\n",
    "\n",
    "    def getY(self):\n",
    "        return self.Y\n",
    "        \n",
    "def distance(Point1,Point2):\n",
    "    dx = Point1.X - Point2.X\n",
    "    dy = Point1.Y - Point2.Y\n",
    "    return math.sqrt(dx**2 + dy**2)\n",
    "\n",
    "\n",
    "p1 = Point(3,4)\n",
    "p2 = Point(-3,-4)\n",
    "print( p1,p2)\n",
    "print(\"distance:\", distance(p1,p2))"
   ]
  },
  {
   "cell_type": "markdown",
   "metadata": {},
   "source": [
    "- one\n",
    "- two\n",
    "- three\n",
    "\n",
    "----\n",
    "\n",
    "| Deneme Tablo | X | Y |\n",
    "|---|---|---|\n",
    "| P1 | 3 | 4 |\n",
    "| P2 | -3 | -4 |\n",
    "| P3 | 10 | 0 |\n",
    "\n",
    "****\n",
    "<ol>\n",
    "  <li>First item</li>\n",
    "  <li>Second item</li>\n",
    "  <li>Third item</li>\n",
    "  <li>Fourth item</li>\n",
    "</ol>\n",
    "\n",
    "---\n",
    "\n",
    "![deneme_resim](https://c.tenor.com/zrpyKEyxZGwAAAAM/fat-cat-laser-eyes.gif)\n",
    "\n",
    "<p align=\"center\">\n",
    "  <img width=\"260\" height=\"200\" src=\"https://c.tenor.com/zrpyKEyxZGwAAAAM/fat-cat-laser-eyes.gif\">\n",
    "</p>"
   ]
  },
  {
   "cell_type": "markdown",
   "metadata": {},
   "source": []
  }
 ],
 "metadata": {
  "kernelspec": {
   "display_name": "Python 3.10.0 64-bit",
   "language": "python",
   "name": "python3"
  },
  "language_info": {
   "codemirror_mode": {
    "name": "ipython",
    "version": 3
   },
   "file_extension": ".py",
   "mimetype": "text/x-python",
   "name": "python",
   "nbconvert_exporter": "python",
   "pygments_lexer": "ipython3",
   "version": "3.10.0"
  },
  "orig_nbformat": 4,
  "vscode": {
   "interpreter": {
    "hash": "6d18d55a7da7be3bdfe33cde0f328b1185b861a840cf758fb812f46100d9b4ba"
   }
  }
 },
 "nbformat": 4,
 "nbformat_minor": 2
}
